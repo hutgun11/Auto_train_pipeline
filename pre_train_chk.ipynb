{
 "cells": [
  {
   "cell_type": "code",
   "execution_count": 253,
   "metadata": {
    "ExecuteTime": {
     "end_time": "2021-03-16T04:15:13.072553Z",
     "start_time": "2021-03-16T04:15:13.067551Z"
    }
   },
   "outputs": [],
   "source": [
    "import os\n",
    "import re\n",
    "import subprocess\n",
    "import fnmatch\n"
   ]
  },
  {
   "cell_type": "markdown",
   "metadata": {},
   "source": [
    "# pre train check file"
   ]
  },
  {
   "cell_type": "code",
   "execution_count": 219,
   "metadata": {
    "ExecuteTime": {
     "end_time": "2021-03-15T10:02:12.482396Z",
     "start_time": "2021-03-15T10:02:12.477397Z"
    }
   },
   "outputs": [],
   "source": [
    "def chk_len_product(number_file_dataset,number_sum_file):\n",
    "    if number_sum_file == number_file_dataset:\n",
    "        status=True\n",
    "    else:\n",
    "        status=False\n",
    "    return status"
   ]
  },
  {
   "cell_type": "code",
   "execution_count": 227,
   "metadata": {
    "ExecuteTime": {
     "end_time": "2021-03-15T10:02:27.220050Z",
     "start_time": "2021-03-15T10:02:27.211049Z"
    }
   },
   "outputs": [],
   "source": [
    "def check_status_config(trainer_data,cfg):\n",
    "    str_cfg=True\n",
    "    for i_tr,tr_data in enumerate(trainer_data):\n",
    "        if 'classes' in tr_data: \n",
    "            class_tr=(re.search(r\"([0-9]{1,3})\",tr_data)).group()\n",
    "            num_filter=(int(class_tr)+5)*3\n",
    "    i_chk = 0 \n",
    "    for i_cfg,cfg_data in enumerate(cfg):\n",
    "        if 'filters' in cfg_data and str(num_filter) in cfg_data:\n",
    "            i_chk +=1\n",
    "        if 'classes' in cfg_data: \n",
    "            class_cfg=(re.search(r\"([0-9]{1,3})\",cfg_data)).group()\n",
    "            if class_cfg == class_tr:\n",
    "                i_chk +=1\n",
    "    if i_chk != 6:\n",
    "        str_cfg =False\n",
    "    return str_cfg"
   ]
  },
  {
   "cell_type": "markdown",
   "metadata": {
    "ExecuteTime": {
     "end_time": "2021-03-15T10:02:52.425466Z",
     "start_time": "2021-03-15T10:02:52.421465Z"
    }
   },
   "source": [
    "# chcek folder null"
   ]
  },
  {
   "cell_type": "code",
   "execution_count": 252,
   "metadata": {
    "ExecuteTime": {
     "end_time": "2021-03-16T03:58:38.654503Z",
     "start_time": "2021-03-16T03:58:38.642508Z"
    }
   },
   "outputs": [
    {
     "name": "stdout",
     "output_type": "stream",
     "text": [
      "back_up is emty\n"
     ]
    }
   ],
   "source": [
    "import os\n",
    "import re\n",
    "import subprocess\n",
    "def main():\n",
    "    try:\n",
    "        directory = os.listdir('backup')\n",
    "        if len(directory) == 0:\n",
    "            print('back_up is emty')\n",
    "            train= [open(\"model-config/train.txt\")]\n",
    "            test = [open(\"model-config/test.txt\")]\n",
    "            trainer_data=open(\"model-config/trainer.data\")\n",
    "            cfg=open(\"model-config/yolov4-tiny-3l_c24.cfg\")\n",
    "            number_sum_file=(len(train)+len(test))*2\n",
    "            dir ='dataset/images/'\n",
    "            list =os.listdir(dir)\n",
    "            number_file_dataset=len(list)\n",
    "            status_len_pr=chk_len_product(number_file_dataset,number_sum_file)\n",
    "            status_config=check_status_config(trainer_data,cfg)\n",
    "            if status_len_pr and status_config:\n",
    "                if os.path.isfile(\"chart.png\") == False: #checktrain_by chart\n",
    "                    subprocess.call(['sh','./build_yolov4.sh'])\n",
    "                else:\n",
    "                    pass\n",
    "        else:\n",
    "            pass\n",
    "\n",
    "\n",
    "    except:\n",
    "        print('no_backup')\n",
    "        pass\n"
   ]
  },
  {
   "cell_type": "markdown",
   "metadata": {},
   "source": [
    "# test"
   ]
  },
  {
   "cell_type": "code",
   "execution_count": 257,
   "metadata": {
    "ExecuteTime": {
     "end_time": "2021-03-16T04:16:19.740348Z",
     "start_time": "2021-03-16T04:16:19.734344Z"
    }
   },
   "outputs": [
    {
     "name": "stdout",
     "output_type": "stream",
     "text": [
      "yolov4-tiny-3l_c24.cfg\n"
     ]
    }
   ],
   "source": [
    "for file in os.listdir('model-config'):\n",
    "    if fnmatch.fnmatch(file,'*.cfg'):\n",
    "        print(file)"
   ]
  },
  {
   "cell_type": "code",
   "execution_count": 256,
   "metadata": {
    "ExecuteTime": {
     "end_time": "2021-03-16T04:16:07.533944Z",
     "start_time": "2021-03-16T04:16:07.525944Z"
    }
   },
   "outputs": [],
   "source": [
    "train= [open(\"model-config/train.txt\")]\n",
    "test = [open(\"model-config/test.txt\")]\n",
    "trainer_data=open(\"model-config/trainer.data\")\n",
    "cfg=open(\"model-config/yolov4-tiny-3l_c24.cfg\")\n",
    "number_sum_file=(len(train)+len(test))*2\n",
    "dir ='dataset/images/'\n",
    "list =os.listdir(dir)\n",
    "number_file_dataset=len(list)\n",
    "status_len_pr=chk_len_product(number_file_dataset,number_sum_file)\n",
    "status_config=check_status_config(trainer_data,cfg)"
   ]
  },
  {
   "cell_type": "code",
   "execution_count": 249,
   "metadata": {
    "ExecuteTime": {
     "end_time": "2021-03-16T03:52:55.134709Z",
     "start_time": "2021-03-16T03:52:55.127713Z"
    }
   },
   "outputs": [
    {
     "data": {
      "text/plain": [
       "False"
      ]
     },
     "execution_count": 249,
     "metadata": {},
     "output_type": "execute_result"
    }
   ],
   "source": [
    "os.path.isfile(\"chart.png\")"
   ]
  },
  {
   "cell_type": "code",
   "execution_count": null,
   "metadata": {},
   "outputs": [],
   "source": [
    "subprocess.call(['sh','./build_yolov4.sh'])"
   ]
  }
 ],
 "metadata": {
  "kernelspec": {
   "display_name": "Python 3",
   "language": "python",
   "name": "python3"
  },
  "language_info": {
   "codemirror_mode": {
    "name": "ipython",
    "version": 3
   },
   "file_extension": ".py",
   "mimetype": "text/x-python",
   "name": "python",
   "nbconvert_exporter": "python",
   "pygments_lexer": "ipython3",
   "version": "3.7.6"
  },
  "toc": {
   "base_numbering": 1,
   "nav_menu": {},
   "number_sections": true,
   "sideBar": true,
   "skip_h1_title": false,
   "title_cell": "Table of Contents",
   "title_sidebar": "Contents",
   "toc_cell": false,
   "toc_position": {},
   "toc_section_display": true,
   "toc_window_display": false
  }
 },
 "nbformat": 4,
 "nbformat_minor": 4
}
